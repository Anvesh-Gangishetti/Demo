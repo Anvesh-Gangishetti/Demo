{
 "cells": [
  {
   "cell_type": "code",
   "execution_count": null,
   "id": "83a2fc25",
   "metadata": {},
   "outputs": [],
   "source": [
    "input_string = input(\"Enter a string: \")\n",
    "if len(input_string) < 2:\n",
    "    print(\"Input string must have at least 2 characters.\")\n",
    "else:\n",
    "    '''Below statement reads string from index 2, which satisfies removing 2 charcters constraint'''\n",
    "    modified_string = input_string[2:]\n",
    "    \n",
    "    '''Below statement reverses the reamining string'''\n",
    "    reversed_string = modified_string[::-1]\n",
    "\n",
    "    print(\"Reversed string:\", reversed_string)"
   ]
  },
  {
   "cell_type": "code",
   "execution_count": null,
   "id": "21646541",
   "metadata": {},
   "outputs": [],
   "source": [
    "Number1 = float(input(\"Enter first Number: \"))\n",
    "Number2 = float(input(\"Enter second Number: \"))\n",
    "print(\"Addition:\", Number1+Number2)\n",
    "print(\"Subtraction:\", Number1-Number2)\n",
    "print(\"Multiplication:\", Number1*Number2)\n",
    "print(\"Exponentiation:\", Number1**Number2)"
   ]
  },
  {
   "cell_type": "code",
   "execution_count": null,
   "id": "7105b004",
   "metadata": {},
   "outputs": [],
   "source": [
    "input_string = input(\"Enter a sentence: \")\n",
    "\n",
    "'''Below string method replace() is used to replace python with pythons'''\n",
    "modified_string = input_string.replace('python', 'pythons')\n",
    "\n",
    "print(\"Modified sentence:\", modified_string)"
   ]
  },
  {
   "cell_type": "code",
   "execution_count": null,
   "id": "c5a30f1c",
   "metadata": {},
   "outputs": [],
   "source": [
    "score = int(input(\"Enter class score: \"))\n",
    "if(score>=90):\n",
    "  print(\"YOUR GRADE IS \\'A' \")\n",
    "elif(score>=80 and score<=89):\n",
    "  print(\"YOUR GRADE IS \\'B' \")\n",
    "elif(score>=70 and score<=79):\n",
    "  print(\"YOUR GRADE IS \\'C' \")\n",
    "elif(score>=60 and score<=69):\n",
    "  print(\"YOUR GRADE IS \\'D' \")\n",
    "else:\n",
    "  print(\"YOUR GRADE IS \\'F' \")"
   ]
  },
  {
   "cell_type": "code",
   "execution_count": null,
   "id": "20307720",
   "metadata": {},
   "outputs": [],
   "source": []
  }
 ],
 "metadata": {
  "kernelspec": {
   "display_name": "Python 3 (ipykernel)",
   "language": "python",
   "name": "python3"
  },
  "language_info": {
   "codemirror_mode": {
    "name": "ipython",
    "version": 3
   },
   "file_extension": ".py",
   "mimetype": "text/x-python",
   "name": "python",
   "nbconvert_exporter": "python",
   "pygments_lexer": "ipython3",
   "version": "3.11.5"
  }
 },
 "nbformat": 4,
 "nbformat_minor": 5
}
